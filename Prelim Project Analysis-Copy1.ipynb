{
 "cells": [
  {
   "cell_type": "code",
   "execution_count": 2,
   "metadata": {
    "collapsed": false
   },
   "outputs": [
    {
     "name": "stderr",
     "output_type": "stream",
     "text": [
      "Skipping line 571318: expected 101 fields, saw 102\n",
      "\n",
      "Skipping line 1332149: expected 101 fields, saw 102\n",
      "\n",
      "/Users/Lellis/anaconda/lib/python2.7/site-packages/IPython/core/interactiveshell.py:2902: DtypeWarning: Columns (0,9,10,11,12,13,14) have mixed types. Specify dtype option on import or set low_memory=False.\n",
      "  interactivity=interactivity, compiler=compiler, result=result)\n"
     ]
    }
   ],
   "source": [
    "import pandas as pd\n",
    "\n",
    "#Using CSV file for now\n",
    "#file = 'CSV Files/GAdata_5year.txt'\n",
    "file = 'GAdata_5year_bydonor.txt'\n",
    "\n",
    "#error_bad_lines drops any record with extra delimiters (tabs, here)\n",
    "#donors = pd.read_csv(file, sep= ',', error_bad_lines=False, index_col='iID')\n",
    "donors = pd.read_csv(file, sep=',', error_bad_lines=False, index_col='iContactID')\n"
   ]
  },
  {
   "cell_type": "code",
   "execution_count": 3,
   "metadata": {
    "collapsed": false
   },
   "outputs": [
    {
     "data": {
      "text/html": [
       "<div>\n",
       "<table border=\"1\" class=\"dataframe\">\n",
       "  <thead>\n",
       "    <tr style=\"text-align: right;\">\n",
       "      <th></th>\n",
       "      <th>sCity</th>\n",
       "      <th>sState</th>\n",
       "      <th>sZip</th>\n",
       "      <th>sEmail</th>\n",
       "      <th>sEmployer</th>\n",
       "      <th>sOccupation</th>\n",
       "      <th>mHPCFive</th>\n",
       "      <th>mHPCLT</th>\n",
       "      <th>iNumLifetime</th>\n",
       "      <th>mSumLifetime</th>\n",
       "      <th>...</th>\n",
       "      <th>amt_st_2014_gifts</th>\n",
       "      <th>amt_st_2015_gifts</th>\n",
       "      <th>avg_gift</th>\n",
       "      <th>avg_dm_gift</th>\n",
       "      <th>avg_fi_gift</th>\n",
       "      <th>avg_nm_gift</th>\n",
       "      <th>avg_sp_gift</th>\n",
       "      <th>avg_st_gift</th>\n",
       "      <th>years_on_file</th>\n",
       "      <th>months_on_file</th>\n",
       "    </tr>\n",
       "    <tr>\n",
       "      <th>iContactID</th>\n",
       "      <th></th>\n",
       "      <th></th>\n",
       "      <th></th>\n",
       "      <th></th>\n",
       "      <th></th>\n",
       "      <th></th>\n",
       "      <th></th>\n",
       "      <th></th>\n",
       "      <th></th>\n",
       "      <th></th>\n",
       "      <th></th>\n",
       "      <th></th>\n",
       "      <th></th>\n",
       "      <th></th>\n",
       "      <th></th>\n",
       "      <th></th>\n",
       "      <th></th>\n",
       "      <th></th>\n",
       "      <th></th>\n",
       "      <th></th>\n",
       "      <th></th>\n",
       "    </tr>\n",
       "  </thead>\n",
       "  <tbody>\n",
       "    <tr>\n",
       "      <th>5932</th>\n",
       "      <td>Toledo</td>\n",
       "      <td>OH</td>\n",
       "      <td>43606-1131</td>\n",
       "      <td>ronald.randall@utoledo.edu</td>\n",
       "      <td>University of Toledo</td>\n",
       "      <td>RETIRED</td>\n",
       "      <td>100</td>\n",
       "      <td>100</td>\n",
       "      <td>25</td>\n",
       "      <td>1945</td>\n",
       "      <td>...</td>\n",
       "      <td>0</td>\n",
       "      <td>0</td>\n",
       "      <td>90.00</td>\n",
       "      <td>89.2857</td>\n",
       "      <td>NaN</td>\n",
       "      <td>NaN</td>\n",
       "      <td>91.6666</td>\n",
       "      <td>NaN</td>\n",
       "      <td>26</td>\n",
       "      <td>309</td>\n",
       "    </tr>\n",
       "    <tr>\n",
       "      <th>21865</th>\n",
       "      <td>Santa Monica</td>\n",
       "      <td>CA</td>\n",
       "      <td>90402-1229</td>\n",
       "      <td>sweettree@bigfoot.com</td>\n",
       "      <td>American Film Founda</td>\n",
       "      <td>Director/Producer/Writer</td>\n",
       "      <td>0</td>\n",
       "      <td>200</td>\n",
       "      <td>6</td>\n",
       "      <td>455</td>\n",
       "      <td>...</td>\n",
       "      <td>0</td>\n",
       "      <td>0</td>\n",
       "      <td>25.00</td>\n",
       "      <td>NaN</td>\n",
       "      <td>25.0</td>\n",
       "      <td>NaN</td>\n",
       "      <td>NaN</td>\n",
       "      <td>NaN</td>\n",
       "      <td>26</td>\n",
       "      <td>309</td>\n",
       "    </tr>\n",
       "    <tr>\n",
       "      <th>30848</th>\n",
       "      <td>Everett</td>\n",
       "      <td>WA</td>\n",
       "      <td>98208-3972</td>\n",
       "      <td>hvangoeye@aol.com</td>\n",
       "      <td>The Boeing Co</td>\n",
       "      <td>Retired</td>\n",
       "      <td>10</td>\n",
       "      <td>50</td>\n",
       "      <td>31</td>\n",
       "      <td>760</td>\n",
       "      <td>...</td>\n",
       "      <td>0</td>\n",
       "      <td>0</td>\n",
       "      <td>10.00</td>\n",
       "      <td>10.0000</td>\n",
       "      <td>NaN</td>\n",
       "      <td>NaN</td>\n",
       "      <td>NaN</td>\n",
       "      <td>NaN</td>\n",
       "      <td>23</td>\n",
       "      <td>276</td>\n",
       "    </tr>\n",
       "    <tr>\n",
       "      <th>37451</th>\n",
       "      <td>Amherst</td>\n",
       "      <td>MA</td>\n",
       "      <td>01002-1224</td>\n",
       "      <td>bmarybeth@comcast.net</td>\n",
       "      <td>retired</td>\n",
       "      <td>Retired</td>\n",
       "      <td>200</td>\n",
       "      <td>200</td>\n",
       "      <td>25</td>\n",
       "      <td>1945</td>\n",
       "      <td>...</td>\n",
       "      <td>0</td>\n",
       "      <td>0</td>\n",
       "      <td>131.25</td>\n",
       "      <td>131.2500</td>\n",
       "      <td>NaN</td>\n",
       "      <td>NaN</td>\n",
       "      <td>NaN</td>\n",
       "      <td>NaN</td>\n",
       "      <td>25</td>\n",
       "      <td>297</td>\n",
       "    </tr>\n",
       "    <tr>\n",
       "      <th>37591</th>\n",
       "      <td>Amherst</td>\n",
       "      <td>MA</td>\n",
       "      <td>01002-2814</td>\n",
       "      <td>ese43@comcast.net</td>\n",
       "      <td>Univ. of Massachusetts</td>\n",
       "      <td>Professor</td>\n",
       "      <td>30</td>\n",
       "      <td>100</td>\n",
       "      <td>18</td>\n",
       "      <td>895</td>\n",
       "      <td>...</td>\n",
       "      <td>0</td>\n",
       "      <td>0</td>\n",
       "      <td>27.50</td>\n",
       "      <td>NaN</td>\n",
       "      <td>27.5</td>\n",
       "      <td>NaN</td>\n",
       "      <td>NaN</td>\n",
       "      <td>NaN</td>\n",
       "      <td>26</td>\n",
       "      <td>315</td>\n",
       "    </tr>\n",
       "  </tbody>\n",
       "</table>\n",
       "<p>5 rows × 100 columns</p>\n",
       "</div>"
      ],
      "text/plain": [
       "                   sCity sState        sZip                      sEmail  \\\n",
       "iContactID                                                                \n",
       "5932              Toledo     OH  43606-1131  ronald.randall@utoledo.edu   \n",
       "21865       Santa Monica     CA  90402-1229       sweettree@bigfoot.com   \n",
       "30848            Everett     WA  98208-3972           hvangoeye@aol.com   \n",
       "37451            Amherst     MA  01002-1224       bmarybeth@comcast.net   \n",
       "37591            Amherst     MA  01002-2814           ese43@comcast.net   \n",
       "\n",
       "                         sEmployer               sOccupation  mHPCFive  \\\n",
       "iContactID                                                               \n",
       "5932          University of Toledo                   RETIRED       100   \n",
       "21865         American Film Founda  Director/Producer/Writer         0   \n",
       "30848                The Boeing Co                   Retired        10   \n",
       "37451                      retired                   Retired       200   \n",
       "37591       Univ. of Massachusetts                 Professor        30   \n",
       "\n",
       "            mHPCLT iNumLifetime mSumLifetime       ...        \\\n",
       "iContactID                                         ...         \n",
       "5932           100           25         1945       ...         \n",
       "21865          200            6          455       ...         \n",
       "30848           50           31          760       ...         \n",
       "37451          200           25         1945       ...         \n",
       "37591          100           18          895       ...         \n",
       "\n",
       "           amt_st_2014_gifts amt_st_2015_gifts avg_gift avg_dm_gift  \\\n",
       "iContactID                                                            \n",
       "5932                       0                 0    90.00     89.2857   \n",
       "21865                      0                 0    25.00         NaN   \n",
       "30848                      0                 0    10.00     10.0000   \n",
       "37451                      0                 0   131.25    131.2500   \n",
       "37591                      0                 0    27.50         NaN   \n",
       "\n",
       "           avg_fi_gift avg_nm_gift avg_sp_gift avg_st_gift  years_on_file  \\\n",
       "iContactID                                                                  \n",
       "5932               NaN         NaN     91.6666         NaN             26   \n",
       "21865             25.0         NaN         NaN         NaN             26   \n",
       "30848              NaN         NaN         NaN         NaN             23   \n",
       "37451              NaN         NaN         NaN         NaN             25   \n",
       "37591             27.5         NaN         NaN         NaN             26   \n",
       "\n",
       "            months_on_file  \n",
       "iContactID                  \n",
       "5932                   309  \n",
       "21865                  309  \n",
       "30848                  276  \n",
       "37451                  297  \n",
       "37591                  315  \n",
       "\n",
       "[5 rows x 100 columns]"
      ]
     },
     "execution_count": 3,
     "metadata": {},
     "output_type": "execute_result"
    }
   ],
   "source": [
    "donors.head()"
   ]
  },
  {
   "cell_type": "code",
   "execution_count": 4,
   "metadata": {
    "collapsed": false
   },
   "outputs": [
    {
     "data": {
      "text/plain": [
       "(2071125, 100)"
      ]
     },
     "execution_count": 4,
     "metadata": {},
     "output_type": "execute_result"
    }
   ],
   "source": [
    "donors.shape"
   ]
  },
  {
   "cell_type": "markdown",
   "metadata": {},
   "source": [
    "### Raw file has 9234384 rows\n",
    "* CSV read has 7445093\n",
    "* Pipe has 7543845, with no headers\n",
    "* tab read took significantly longer, not worth it"
   ]
  },
  {
   "cell_type": "code",
   "execution_count": 6,
   "metadata": {
    "collapsed": false
   },
   "outputs": [
    {
     "data": {
      "text/plain": [
       "count    2070477.000000\n",
       "mean           4.018971\n",
       "std            5.999756\n",
       "min            0.000000\n",
       "25%            0.000000\n",
       "50%            1.000000\n",
       "75%            6.000000\n",
       "max          265.000000\n",
       "Name: years_on_file, dtype: float64"
      ]
     },
     "execution_count": 6,
     "metadata": {},
     "output_type": "execute_result"
    }
   ],
   "source": [
    "donors.years_on_file.describe()"
   ]
  },
  {
   "cell_type": "code",
   "execution_count": 7,
   "metadata": {
    "collapsed": false
   },
   "outputs": [
    {
     "data": {
      "text/plain": [
       "count    2070474.000000\n",
       "mean          48.120111\n",
       "std           71.791981\n",
       "min            0.000000\n",
       "25%            0.000000\n",
       "50%           11.000000\n",
       "75%           73.000000\n",
       "max          412.000000\n",
       "Name: months_on_file, dtype: float64"
      ]
     },
     "execution_count": 7,
     "metadata": {},
     "output_type": "execute_result"
    }
   ],
   "source": [
    "donors.months_on_file.describe()"
   ]
  },
  {
   "cell_type": "code",
   "execution_count": 19,
   "metadata": {
    "collapsed": false
   },
   "outputs": [
    {
     "data": {
      "text/html": [
       "<div>\n",
       "<table border=\"1\" class=\"dataframe\">\n",
       "  <thead>\n",
       "    <tr style=\"text-align: right;\">\n",
       "      <th></th>\n",
       "      <th>sCity</th>\n",
       "      <th>sState</th>\n",
       "      <th>sZip</th>\n",
       "      <th>sEmail</th>\n",
       "      <th>sEmployer</th>\n",
       "      <th>sOccupation</th>\n",
       "      <th>mHPCFive</th>\n",
       "      <th>mHPCLT</th>\n",
       "      <th>iNumLifetime</th>\n",
       "      <th>mSumLifetime</th>\n",
       "      <th>...</th>\n",
       "      <th>amt_st_2014_gifts</th>\n",
       "      <th>amt_st_2015_gifts</th>\n",
       "      <th>avg_gift</th>\n",
       "      <th>avg_dm_gift</th>\n",
       "      <th>avg_fi_gift</th>\n",
       "      <th>avg_nm_gift</th>\n",
       "      <th>avg_sp_gift</th>\n",
       "      <th>avg_st_gift</th>\n",
       "      <th>years_on_file</th>\n",
       "      <th>months_on_file</th>\n",
       "    </tr>\n",
       "    <tr>\n",
       "      <th>iContactID</th>\n",
       "      <th></th>\n",
       "      <th></th>\n",
       "      <th></th>\n",
       "      <th></th>\n",
       "      <th></th>\n",
       "      <th></th>\n",
       "      <th></th>\n",
       "      <th></th>\n",
       "      <th></th>\n",
       "      <th></th>\n",
       "      <th></th>\n",
       "      <th></th>\n",
       "      <th></th>\n",
       "      <th></th>\n",
       "      <th></th>\n",
       "      <th></th>\n",
       "      <th></th>\n",
       "      <th></th>\n",
       "      <th></th>\n",
       "      <th></th>\n",
       "      <th></th>\n",
       "    </tr>\n",
       "  </thead>\n",
       "  <tbody>\n",
       "    <tr>\n",
       "      <th>98664614</th>\n",
       "      <td>Oakland</td>\n",
       "      <td>CA</td>\n",
       "      <td>94619-2918</td>\n",
       "      <td>NaN</td>\n",
       "      <td>,real est b,0,35,3,95,3,0,0,0,2009-05-29 00:00...</td>\n",
       "      <td>0</td>\n",
       "      <td>100</td>\n",
       "      <td>23</td>\n",
       "      <td>1050</td>\n",
       "      <td>8</td>\n",
       "      <td>...</td>\n",
       "      <td>0</td>\n",
       "      <td>47.5</td>\n",
       "      <td>NaN</td>\n",
       "      <td>47.5</td>\n",
       "      <td>NaN</td>\n",
       "      <td>NaN</td>\n",
       "      <td>NaN</td>\n",
       "      <td>22</td>\n",
       "      <td>265</td>\n",
       "      <td>NaN</td>\n",
       "    </tr>\n",
       "  </tbody>\n",
       "</table>\n",
       "<p>1 rows × 100 columns</p>\n",
       "</div>"
      ],
      "text/plain": [
       "              sCity sState        sZip sEmail  \\\n",
       "iContactID                                      \n",
       "98664614    Oakland     CA  94619-2918    NaN   \n",
       "\n",
       "                                                    sEmployer sOccupation  \\\n",
       "iContactID                                                                  \n",
       "98664614    ,real est b,0,35,3,95,3,0,0,0,2009-05-29 00:00...           0   \n",
       "\n",
       "            mHPCFive  mHPCLT iNumLifetime mSumLifetime       ...        \\\n",
       "iContactID                                                   ...         \n",
       "98664614         100      23         1050            8       ...         \n",
       "\n",
       "           amt_st_2014_gifts amt_st_2015_gifts avg_gift avg_dm_gift  \\\n",
       "iContactID                                                            \n",
       "98664614                   0              47.5      NaN        47.5   \n",
       "\n",
       "           avg_fi_gift avg_nm_gift avg_sp_gift avg_st_gift  years_on_file  \\\n",
       "iContactID                                                                  \n",
       "98664614           NaN         NaN         NaN          22            265   \n",
       "\n",
       "            months_on_file  \n",
       "iContactID                  \n",
       "98664614               NaN  \n",
       "\n",
       "[1 rows x 100 columns]"
      ]
     },
     "execution_count": 19,
     "metadata": {},
     "output_type": "execute_result"
    }
   ],
   "source": [
    "#here is some ugly ugly data\n",
    "donors[donors.years_on_file > 40]"
   ]
  },
  {
   "cell_type": "code",
   "execution_count": 20,
   "metadata": {
    "collapsed": false
   },
   "outputs": [
    {
     "data": {
      "text/plain": [
       "Index([u'sCity', u'sState', u'sZip', u'sEmail', u'sEmployer', u'sOccupation',\n",
       "       u'mHPCFive', u'mHPCLT', u'iNumLifetime', u'mSumLifetime', u'iNumDMLT',\n",
       "       u'iNumFILT', u'iNumOnlineLT', u'iNumTMFour', u'dtFC_Date',\n",
       "       u'sFC_Account', u'sFC_Channel', u'dtMRC_Date', u'mMRC_Amount',\n",
       "       u'num_2010_gifts', u'num_2011_gifts', u'num_2012_gifts',\n",
       "       u'num_2013_gifts', u'num_2014_gifts', u'num_2015_gifts',\n",
       "       u'num_dm_2010_gifts', u'num_dm_2011_gifts', u'num_dm_2012_gifts',\n",
       "       u'num_dm_2013_gifts', u'num_dm_2014_gifts', u'num_dm_2015_gifts',\n",
       "       u'num_nm_2010_gifts', u'num_nm_2011_gifts', u'num_nm_2012_gifts',\n",
       "       u'num_nm_2013_gifts', u'num_nm_2014_gifts', u'num_nm_2015_gifts',\n",
       "       u'num_fi_2010_gifts', u'num_fi_2011_gifts', u'num_fi_2012_gifts',\n",
       "       u'num_fi_2013_gifts', u'num_fi_2014_gifts', u'num_fi_2015_gifts',\n",
       "       u'num_sp_2010_gifts', u'num_sp_2011_gifts', u'num_sp_2012_gifts',\n",
       "       u'num_sp_2013_gifts', u'num_sp_2014_gifts', u'num_sp_2015_gifts',\n",
       "       u'num_st_2010_gifts', u'num_st_2011_gifts', u'num_st_2012_gifts',\n",
       "       u'num_st_2013_gifts', u'num_st_2014_gifts', u'num_st_2015_gifts',\n",
       "       u'canvass_donor', u'amt_2010_gifts', u'amt_2011_gifts',\n",
       "       u'amt_2012_gifts', u'amt_2013_gifts', u'amt_2014_gifts',\n",
       "       u'amt_2015_gifts', u'amt_dm_2010_gifts', u'amt_dm_2011_gifts',\n",
       "       u'amt_dm_2012_gifts', u'amt_dm_2013_gifts', u'amt_dm_2014_gifts',\n",
       "       u'amt_dm_2015_gifts', u'amt_nm_2010_gifts', u'amt_nm_2011_gifts',\n",
       "       u'amt_nm_2012_gifts', u'amt_nm_2013_gifts', u'amt_nm_2014_gifts',\n",
       "       u'amt_nm_2015_gifts', u'amt_fi_2010_gifts', u'amt_fi_2011_gifts',\n",
       "       u'amt_fi_2012_gifts', u'amt_fi_2013_gifts', u'amt_fi_2014_gifts',\n",
       "       u'amt_fi_2015_gifts', u'amt_sp_2010_gifts', u'amt_sp_2011_gifts',\n",
       "       u'amt_sp_2012_gifts', u'amt_sp_2013_gifts', u'amt_sp_2014_gifts',\n",
       "       u'amt_sp_2015_gifts', u'amt_st_2010_gifts', u'amt_st_2011_gifts',\n",
       "       u'amt_st_2012_gifts', u'amt_st_2013_gifts', u'amt_st_2014_gifts',\n",
       "       u'amt_st_2015_gifts', u'avg_gift', u'avg_dm_gift', u'avg_fi_gift',\n",
       "       u'avg_nm_gift', u'avg_sp_gift', u'avg_st_gift', u'years_on_file',\n",
       "       u'months_on_file'],\n",
       "      dtype='object')"
      ]
     },
     "execution_count": 20,
     "metadata": {},
     "output_type": "execute_result"
    }
   ],
   "source": [
    "donors.columns"
   ]
  },
  {
   "cell_type": "code",
   "execution_count": null,
   "metadata": {
    "collapsed": true
   },
   "outputs": [],
   "source": []
  }
 ],
 "metadata": {
  "kernelspec": {
   "display_name": "Python 2",
   "language": "python",
   "name": "python2"
  },
  "language_info": {
   "codemirror_mode": {
    "name": "ipython",
    "version": 2
   },
   "file_extension": ".py",
   "mimetype": "text/x-python",
   "name": "python",
   "nbconvert_exporter": "python",
   "pygments_lexer": "ipython2",
   "version": "2.7.11"
  }
 },
 "nbformat": 4,
 "nbformat_minor": 0
}
